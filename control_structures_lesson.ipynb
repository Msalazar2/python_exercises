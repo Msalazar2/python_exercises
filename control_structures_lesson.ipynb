{
 "cells": [
  {
   "cell_type": "code",
   "execution_count": 1,
   "id": "c0631b47",
   "metadata": {},
   "outputs": [
    {
     "data": {
      "application/javascript": [
       "IPython.notebook.set_autosave_interval(0)"
      ]
     },
     "metadata": {},
     "output_type": "display_data"
    },
    {
     "name": "stdout",
     "output_type": "stream",
     "text": [
      "Autosave disabled\n"
     ]
    }
   ],
   "source": [
    "%autosave 0"
   ]
  },
  {
   "cell_type": "markdown",
   "id": "c5b1750c",
   "metadata": {},
   "source": [
    "# Control structures lesson\n",
    "1. If/elif/else\n",
    "1. For loop\n",
    "1. List comprehension\n",
    "1. While loop\n",
    "1. Break and continue\n",
    "1. Prompt user for input"
   ]
  },
  {
   "cell_type": "markdown",
   "id": "6a1b3863",
   "metadata": {},
   "source": [
    "### If/else\n",
    "\n",
    "If some condition is met, execute the following code.\n",
    "\n",
    "If it's not, execute the code under the else statement!"
   ]
  },
  {
   "cell_type": "markdown",
   "id": "b936b231",
   "metadata": {},
   "source": [
    "breaks once the first condition is true"
   ]
  },
  {
   "cell_type": "code",
   "execution_count": 1,
   "id": "34008f9b",
   "metadata": {},
   "outputs": [
    {
     "name": "stdout",
     "output_type": "stream",
     "text": [
      "warm\n"
     ]
    }
   ],
   "source": [
    "temp = 75\n",
    "\n",
    "if temp > 85:\n",
    "    \n",
    "    print('it\\'s hot')\n",
    "    \n",
    "elif temp > 65:\n",
    "    \n",
    "    print('warm')\n",
    "\n",
    "else:\n",
    "    \n",
    "    print('hoodie weather')"
   ]
  },
  {
   "cell_type": "markdown",
   "id": "c7e093e8",
   "metadata": {},
   "source": [
    "### For loop\n",
    "\n",
    "For item in list, perform some operation!"
   ]
  },
  {
   "cell_type": "markdown",
   "id": "bbc167fb",
   "metadata": {},
   "source": [
    "knows when to break bassed on last element of list"
   ]
  },
  {
   "cell_type": "code",
   "execution_count": 4,
   "id": "8691a441",
   "metadata": {},
   "outputs": [
    {
     "data": {
      "text/plain": [
       "[1, 4, 9, 16, 25, 36, 49, 64, 81, 100]"
      ]
     },
     "execution_count": 4,
     "metadata": {},
     "output_type": "execute_result"
    }
   ],
   "source": [
    "my_num = list(range(1,11))\n",
    "sq_list = []\n",
    "\n",
    "for i in my_num:\n",
    "    \n",
    "    sq_list.append(i**2)\n",
    "    \n",
    "sq_list\n"
   ]
  },
  {
   "cell_type": "markdown",
   "id": "4b2fc0f6",
   "metadata": {},
   "source": [
    "### List comprehension\n",
    "\n",
    "Place the results of a for loop back into a list.. immediately!"
   ]
  },
  {
   "cell_type": "code",
   "execution_count": 5,
   "id": "b6001342",
   "metadata": {},
   "outputs": [
    {
     "data": {
      "text/plain": [
       "[1, 4, 9, 16, 25, 36, 49, 64, 81, 100]"
      ]
     },
     "execution_count": 5,
     "metadata": {},
     "output_type": "execute_result"
    }
   ],
   "source": [
    "[i**2 for i in my_num]"
   ]
  },
  {
   "cell_type": "markdown",
   "id": "0e69b12f",
   "metadata": {},
   "source": [
    "### While loop\n",
    "\n",
    "While some conditional statement evaluates to true, continue to execute the code.\n",
    "\n",
    "When the conditional statement evaluates to false, the loop breaks!"
   ]
  },
  {
   "cell_type": "code",
   "execution_count": null,
   "id": "12bd48e8",
   "metadata": {},
   "outputs": [],
   "source": [
    "needs a break like += for it to break"
   ]
  },
  {
   "cell_type": "code",
   "execution_count": 7,
   "id": "71c7f8d2",
   "metadata": {},
   "outputs": [
    {
     "name": "stdout",
     "output_type": "stream",
     "text": [
      "1\n",
      "4\n",
      "9\n",
      "16\n",
      "25\n",
      "36\n",
      "49\n",
      "64\n",
      "81\n",
      "100\n"
     ]
    }
   ],
   "source": [
    "i = 1\n",
    "\n",
    "while i < 11:\n",
    "\n",
    "    print(i**2)\n",
    "    \n",
    "    i += 1\n"
   ]
  },
  {
   "cell_type": "markdown",
   "id": "ebd0ed8b",
   "metadata": {},
   "source": [
    "### Break and continue\n",
    "\n",
    "The break keyword will \"break\" us out of the looping structure.\n",
    "\n",
    "The continue keyword will move us to the next iteration of the loop."
   ]
  },
  {
   "cell_type": "markdown",
   "id": "8b914dcd",
   "metadata": {},
   "source": [
    "without += i will always =1"
   ]
  },
  {
   "cell_type": "code",
   "execution_count": 18,
   "id": "e4515cb6",
   "metadata": {},
   "outputs": [
    {
     "name": "stdout",
     "output_type": "stream",
     "text": [
      "1\n",
      "2\n",
      "3\n",
      "4\n",
      "5\n",
      "true\n"
     ]
    }
   ],
   "source": [
    "i = 1\n",
    "\n",
    "while i < 11:\n",
    "    \n",
    "    print(i)\n",
    "    \n",
    "    if i == 5:\n",
    "        \n",
    "        print('true')\n",
    "        \n",
    "        break\n",
    "        \n",
    "    i += 1"
   ]
  },
  {
   "cell_type": "markdown",
   "id": "9ba78e6d",
   "metadata": {},
   "source": [
    "increment in two places when using continue"
   ]
  },
  {
   "cell_type": "code",
   "execution_count": 9,
   "id": "194d6746",
   "metadata": {},
   "outputs": [
    {
     "name": "stdout",
     "output_type": "stream",
     "text": [
      "1\n",
      "3\n",
      "5\n",
      "7\n",
      "9\n"
     ]
    }
   ],
   "source": [
    "i = 1\n",
    "\n",
    "while i < 11:\n",
    "    \n",
    "    if i % 2 == 0:\n",
    "        \n",
    "        i += 1\n",
    "        \n",
    "        continue\n",
    "        \n",
    "    print(i)\n",
    "    \n",
    "    i += 1"
   ]
  },
  {
   "cell_type": "markdown",
   "id": "72088e9c",
   "metadata": {},
   "source": [
    "### Prompt user for input\n",
    "\n",
    "Use the input() function to get input from the user."
   ]
  },
  {
   "cell_type": "code",
   "execution_count": 11,
   "id": "d07fd869",
   "metadata": {},
   "outputs": [
    {
     "name": "stdout",
     "output_type": "stream",
     "text": [
      "enter an integer: 6\n"
     ]
    }
   ],
   "source": [
    "my_num = input('enter an integer: ')"
   ]
  },
  {
   "cell_type": "code",
   "execution_count": 13,
   "id": "47c5114f",
   "metadata": {},
   "outputs": [
    {
     "data": {
      "text/plain": [
       "str"
      ]
     },
     "execution_count": 13,
     "metadata": {},
     "output_type": "execute_result"
    }
   ],
   "source": [
    "type(my_num)\n"
   ]
  },
  {
   "cell_type": "code",
   "execution_count": 14,
   "id": "64b2b45e",
   "metadata": {},
   "outputs": [
    {
     "data": {
      "text/plain": [
       "6"
      ]
     },
     "execution_count": 14,
     "metadata": {},
     "output_type": "execute_result"
    }
   ],
   "source": [
    "int(my_num)"
   ]
  },
  {
   "cell_type": "code",
   "execution_count": 17,
   "id": "9d567d10",
   "metadata": {},
   "outputs": [
    {
     "name": "stdout",
     "output_type": "stream",
     "text": [
      "enter an integer: f\n",
      "needs an integer\n"
     ]
    }
   ],
   "source": [
    "my_num = input('enter an integer: ')\n",
    "\n",
    "try:\n",
    "    \n",
    "    int(my_num)\n",
    "    \n",
    "    print(\"this works\")\n",
    "    \n",
    "except:\n",
    "    \n",
    "    print('needs an integer')"
   ]
  },
  {
   "cell_type": "code",
   "execution_count": null,
   "id": "d76203f0",
   "metadata": {},
   "outputs": [],
   "source": []
  }
 ],
 "metadata": {
  "kernelspec": {
   "display_name": "Python 3 (ipykernel)",
   "language": "python",
   "name": "python3"
  },
  "language_info": {
   "codemirror_mode": {
    "name": "ipython",
    "version": 3
   },
   "file_extension": ".py",
   "mimetype": "text/x-python",
   "name": "python",
   "nbconvert_exporter": "python",
   "pygments_lexer": "ipython3",
   "version": "3.10.9"
  }
 },
 "nbformat": 4,
 "nbformat_minor": 5
}
