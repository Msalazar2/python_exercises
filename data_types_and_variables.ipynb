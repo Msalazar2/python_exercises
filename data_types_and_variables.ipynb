{
 "cells": [
  {
   "cell_type": "code",
   "execution_count": null,
   "id": "f4699eb9",
   "metadata": {},
   "outputs": [],
   "source": []
  },
  {
   "cell_type": "code",
   "execution_count": null,
   "id": "56ee5254",
   "metadata": {},
   "outputs": [
    {
     "data": {
      "text/plain": [
       "float"
      ]
     },
     "metadata": {},
     "output_type": "display_data"
    }
   ],
   "source": [
    "type(99.9)\n"
   ]
  },
  {
   "cell_type": "code",
   "execution_count": null,
   "id": "66c9a374",
   "metadata": {},
   "outputs": [
    {
     "data": {
      "text/plain": [
       "str"
      ]
     },
     "metadata": {},
     "output_type": "display_data"
    }
   ],
   "source": [
    "type(\"False\")"
   ]
  },
  {
   "cell_type": "code",
   "execution_count": null,
   "id": "5bed5ab6",
   "metadata": {},
   "outputs": [
    {
     "data": {
      "text/plain": [
       "bool"
      ]
     },
     "metadata": {},
     "output_type": "display_data"
    }
   ],
   "source": [
    "type(False)"
   ]
  },
  {
   "cell_type": "code",
   "execution_count": null,
   "id": "9a000741",
   "metadata": {},
   "outputs": [
    {
     "data": {
      "text/plain": [
       "str"
      ]
     },
     "metadata": {},
     "output_type": "display_data"
    }
   ],
   "source": [
    "type('0')"
   ]
  },
  {
   "cell_type": "code",
   "execution_count": null,
   "id": "d7a9b002",
   "metadata": {},
   "outputs": [
    {
     "data": {
      "text/plain": [
       "int"
      ]
     },
     "metadata": {},
     "output_type": "display_data"
    }
   ],
   "source": [
    "type(0)"
   ]
  },
  {
   "cell_type": "code",
   "execution_count": null,
   "id": "02a9a7aa",
   "metadata": {},
   "outputs": [
    {
     "data": {
      "text/plain": [
       "bool"
      ]
     },
     "metadata": {},
     "output_type": "display_data"
    }
   ],
   "source": [
    "type(True)"
   ]
  },
  {
   "cell_type": "code",
   "execution_count": null,
   "id": "549ac22e",
   "metadata": {},
   "outputs": [
    {
     "data": {
      "text/plain": [
       "str"
      ]
     },
     "metadata": {},
     "output_type": "display_data"
    }
   ],
   "source": [
    "type('True')"
   ]
  },
  {
   "cell_type": "code",
   "execution_count": null,
   "id": "362c482e",
   "metadata": {},
   "outputs": [
    {
     "data": {
      "text/plain": [
       "list"
      ]
     },
     "metadata": {},
     "output_type": "display_data"
    }
   ],
   "source": [
    "type([{}])"
   ]
  },
  {
   "cell_type": "code",
   "execution_count": null,
   "id": "e97683ad",
   "metadata": {},
   "outputs": [
    {
     "data": {
      "text/plain": [
       "dict"
      ]
     },
     "metadata": {},
     "output_type": "display_data"
    }
   ],
   "source": [
    "type({'a': []})"
   ]
  },
  {
   "attachments": {},
   "cell_type": "markdown",
   "id": "98ec8e11",
   "metadata": {},
   "source": [
    "What data type would best represent the following?\n",
    "\n",
    "-A term or phrase typed into a search box\n",
    "\n",
    "str\n",
    "\n",
    "-Whether or not a user is logged in\n",
    "\n",
    "bool\n",
    "\n",
    "-A discount amount to apply to a user's shopping cart\n",
    "\n",
    "int/float\n",
    "\n",
    "-Whether or not a coupon code is valid\n",
    "\n",
    "bool\n",
    "\n",
    "-An email address typed into a registration form\n",
    "\n",
    "str\n",
    "\n",
    "-The price of a product\n",
    "\n",
    "int/float\n",
    "\n",
    "-The email addresses collected from a registration form\n",
    "\n",
    "list\n",
    "\n",
    "-Information about applicants to Codeup's data science program\n",
    "\n",
    "dict"
   ]
  },
  {
   "attachments": {},
   "cell_type": "markdown",
   "id": "2f783625",
   "metadata": {},
   "source": [
    "Describe the following scenarios. You will need to create and assign variables and use operators.\n",
    "\n",
    "You have rented some movies for your kids:\n",
    "\n",
    "The Little Mermaid for 3 days\n",
    "\n",
    "Brother Bear for 5 days\n",
    "\n",
    "Hercules for 1 day\n",
    "\n",
    "If the daily fee to rent a movie is 3 dollars, how much will you have to pay?\n",
    "\n"
   ]
  },
  {
   "cell_type": "code",
   "execution_count": null,
   "id": "d20eaf3c",
   "metadata": {},
   "outputs": [],
   "source": [
    "TLM = 3"
   ]
  },
  {
   "cell_type": "code",
   "execution_count": null,
   "id": "711bdc92",
   "metadata": {},
   "outputs": [],
   "source": [
    "BB = 5"
   ]
  },
  {
   "cell_type": "code",
   "execution_count": null,
   "id": "e6fdcd16",
   "metadata": {},
   "outputs": [],
   "source": [
    "H = 1"
   ]
  },
  {
   "cell_type": "code",
   "execution_count": null,
   "id": "20b55193",
   "metadata": {},
   "outputs": [
    {
     "data": {
      "text/plain": [
       "27.0"
      ]
     },
     "metadata": {},
     "output_type": "display_data"
    }
   ],
   "source": [
    "total = (TLM + BB + H) * 3.00\n",
    "total"
   ]
  },
  {
   "attachments": {},
   "cell_type": "markdown",
   "id": "b3ad0ce8",
   "metadata": {},
   "source": [
    "Suppose you're working as a contractor for 3 companies: Google, Amazon and Facebook.\n",
    "\n",
    "They pay you the following hourly rates:\n",
    "\n",
    "Google: 400 dollars\n",
    "\n",
    "Amazon: 380 dollars\n",
    "\n",
    "Facebook: 350 dollars\n",
    "\n",
    "This week you worked: 10 hours for Facebook, 6 hours for Google and 4 hours for Amazon.\n",
    "\n",
    "How much will you receive in payment for this week?\n",
    "\n"
   ]
  },
  {
   "cell_type": "code",
   "execution_count": null,
   "id": "fdfb55dc",
   "metadata": {},
   "outputs": [],
   "source": [
    "G = 400.00"
   ]
  },
  {
   "cell_type": "code",
   "execution_count": null,
   "id": "a76c85ca",
   "metadata": {},
   "outputs": [],
   "source": [
    "A = 380.00"
   ]
  },
  {
   "cell_type": "code",
   "execution_count": null,
   "id": "dd26b8ea",
   "metadata": {},
   "outputs": [],
   "source": [
    "F = 350.00"
   ]
  },
  {
   "cell_type": "code",
   "execution_count": null,
   "id": "f1ba6f5e",
   "metadata": {},
   "outputs": [
    {
     "data": {
      "text/plain": [
       "7420.0"
      ]
     },
     "metadata": {},
     "output_type": "display_data"
    }
   ],
   "source": [
    "payment = F*10+G*6+A*4\n",
    "payment"
   ]
  },
  {
   "attachments": {},
   "cell_type": "markdown",
   "id": "3cccd0e1",
   "metadata": {},
   "source": [
    "A student can be enrolled to a class only if the class is not full and the class schedule does not conflict with her current schedule."
   ]
  },
  {
   "cell_type": "code",
   "execution_count": null,
   "id": "df52c339",
   "metadata": {},
   "outputs": [],
   "source": [
    "CURSIZE = 1"
   ]
  },
  {
   "cell_type": "code",
   "execution_count": null,
   "id": "b91d407f",
   "metadata": {},
   "outputs": [],
   "source": [
    "CMAX = 2"
   ]
  },
  {
   "cell_type": "code",
   "execution_count": null,
   "id": "df9a0c62",
   "metadata": {},
   "outputs": [],
   "source": [
    "CS = 'A'"
   ]
  },
  {
   "cell_type": "code",
   "execution_count": null,
   "id": "b068b12c",
   "metadata": {},
   "outputs": [],
   "source": [
    "CURS = 'B'"
   ]
  },
  {
   "cell_type": "code",
   "execution_count": null,
   "id": "9d07c096",
   "metadata": {},
   "outputs": [
    {
     "data": {
      "text/plain": [
       "True"
      ]
     },
     "metadata": {},
     "output_type": "display_data"
    }
   ],
   "source": [
    "enroll = CURSIZE < CMAX and CS != CURS\n",
    "enroll\n"
   ]
  },
  {
   "attachments": {},
   "cell_type": "markdown",
   "id": "96348460",
   "metadata": {},
   "source": [
    "A product offer can be applied only if people buys more than 2 items, and the offer has not expired. Premium members do not need to buy a specific amount of products."
   ]
  },
  {
   "cell_type": "code",
   "execution_count": null,
   "id": "b029f6ba",
   "metadata": {},
   "outputs": [
    {
     "ename": "NameError",
     "evalue": "name 'buys' is not defined",
     "output_type": "error",
     "traceback": [
      "\u001b[0;31m---------------------------------------------------------------------------\u001b[0m\n",
      "\u001b[0;31mNameError\u001b[0m                                 Traceback (most recent call last)\n",
      "Cell \u001b[0;32mIn[92], line 1\u001b[0m\n",
      "\u001b[0;32m----> 1\u001b[0m offer \u001b[38;5;241m=\u001b[39m (\u001b[43mbuys\u001b[49m \u001b[38;5;241m>\u001b[39m \u001b[38;5;241m2\u001b[39m \u001b[38;5;129;01mor\u001b[39;00m premium_member) \u001b[38;5;129;01mand\u001b[39;00m \u001b[38;5;129;01mnot\u001b[39;00m expired\n",
      "\n",
      "\u001b[0;31mNameError\u001b[0m: name 'buys' is not defined"
     ]
    }
   ],
   "source": [
    "offer = (buys > 2 or premium_member) and not expired "
   ]
  },
  {
   "attachments": {},
   "cell_type": "markdown",
   "id": "caab6c1f",
   "metadata": {},
   "source": [
    "Continue working in the data_types_and_variables.py file. Use the following code to follow the instructions below:\n",
    "\n",
    "\n",
    "username = 'codeup'\n",
    "\n",
    "password = 'notastrongpassword'\n",
    "\n",
    "Create a variable that holds a boolean value for each of the following conditions:\n",
    "\n",
    "The password must be at least 5 characters\n",
    "\n",
    "The username must be no more than 20 characters\n",
    "\n",
    "The password must not be the same as the username"
   ]
  },
  {
   "cell_type": "code",
   "execution_count": null,
   "id": "ea95f771",
   "metadata": {},
   "outputs": [],
   "source": [
    "username = 'codeup'"
   ]
  },
  {
   "cell_type": "code",
   "execution_count": null,
   "id": "766cfcbb",
   "metadata": {},
   "outputs": [],
   "source": [
    "password = 'notastrongpassword'"
   ]
  },
  {
   "cell_type": "code",
   "execution_count": null,
   "id": "a39c8da2",
   "metadata": {},
   "outputs": [],
   "source": [
    "req = len(password) >= 5  \n",
    "req2 = len(username) <= 20 \n",
    "req3 = password != username"
   ]
  },
  {
   "cell_type": "code",
   "execution_count": null,
   "id": "13ca5838",
   "metadata": {},
   "outputs": [
    {
     "data": {
      "text/plain": [
       "(True, True, True)"
      ]
     },
     "metadata": {},
     "output_type": "display_data"
    }
   ],
   "source": [
    "req, req2, req3"
   ]
  },
  {
   "cell_type": "code",
   "execution_count": null,
   "id": "7ba9e55f",
   "metadata": {},
   "outputs": [],
   "source": [
    "bonus = username == username.strip() and password == password.strip()"
   ]
  },
  {
   "cell_type": "code",
   "execution_count": null,
   "id": "c573c603",
   "metadata": {},
   "outputs": [
    {
     "data": {
      "text/plain": [
       "True"
      ]
     },
     "metadata": {},
     "output_type": "display_data"
    }
   ],
   "source": [
    "bonus"
   ]
  },
  {
   "cell_type": "code",
   "execution_count": null,
   "id": "36fe69c6",
   "metadata": {},
   "outputs": [],
   "source": []
  }
 ],
 "metadata": {
  "kernelspec": {
   "display_name": "Python 3 (ipykernel)",
   "language": "python",
   "name": "python3"
  },
  "language_info": {
   "codemirror_mode": {
    "name": "ipython",
    "version": 3
   },
   "file_extension": ".py",
   "mimetype": "text/x-python",
   "name": "python",
   "nbconvert_exporter": "python",
   "pygments_lexer": "ipython3",
   "version": "3.10.9"
  }
 },
 "nbformat": 4,
 "nbformat_minor": 5
}
