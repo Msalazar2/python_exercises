{
 "cells": [
  {
   "cell_type": "markdown",
   "id": "b68b2a34",
   "metadata": {},
   "source": [
    "Define a function named is_two. It should accept one input and return True if the passed input is either the number or the string 2, False otherwise.\n",
    "\n"
   ]
  },
  {
   "cell_type": "code",
   "execution_count": 25,
   "id": "718c1dbb",
   "metadata": {},
   "outputs": [],
   "source": [
    "def is_two(i):\n",
    "     \n",
    "    return i == 2 or i == '2'\n",
    "   \n",
    "    "
   ]
  },
  {
   "cell_type": "code",
   "execution_count": 26,
   "id": "a9159f14",
   "metadata": {},
   "outputs": [
    {
     "name": "stdout",
     "output_type": "stream",
     "text": [
      "False\n",
      "True\n",
      "True\n"
     ]
    }
   ],
   "source": [
    "print(is_two(3))\n",
    "print(is_two('2'))\n",
    "print(is_two(2))"
   ]
  },
  {
   "cell_type": "markdown",
   "id": "b6531c1b",
   "metadata": {},
   "source": [
    "Define a function named is_vowel. It should return True if the passed string is a vowel, False otherwise"
   ]
  },
  {
   "cell_type": "code",
   "execution_count": 29,
   "id": "b4a8291b",
   "metadata": {},
   "outputs": [],
   "source": [
    "def is_vowel(s):\n",
    "    v = ['a','e', 'i', 'o', 'u', 'y']\n",
    "    return s in v\n",
    "    "
   ]
  },
  {
   "cell_type": "code",
   "execution_count": 33,
   "id": "63328e3e",
   "metadata": {},
   "outputs": [
    {
     "data": {
      "text/plain": [
       "False"
      ]
     },
     "execution_count": 33,
     "metadata": {},
     "output_type": "execute_result"
    }
   ],
   "source": [
    "is_vowel('g')"
   ]
  },
  {
   "cell_type": "markdown",
   "id": "9ccdd2e5",
   "metadata": {},
   "source": [
    "Define a function named is_consonant. It should return True if the passed string is a consonant, False otherwise. Use your is_vowel function to accomplish this."
   ]
  },
  {
   "cell_type": "code",
   "execution_count": 36,
   "id": "9d2f2c78",
   "metadata": {},
   "outputs": [],
   "source": [
    "def is_consonant(c):\n",
    "    v = ['a','e', 'i', 'o', 'u', 'y']\n",
    "    return c not in v"
   ]
  },
  {
   "cell_type": "code",
   "execution_count": 40,
   "id": "d8e8b8b0",
   "metadata": {},
   "outputs": [
    {
     "data": {
      "text/plain": [
       "False"
      ]
     },
     "execution_count": 40,
     "metadata": {},
     "output_type": "execute_result"
    }
   ],
   "source": [
    "is_consonant('a')"
   ]
  },
  {
   "cell_type": "markdown",
   "id": "9ead2860",
   "metadata": {},
   "source": [
    "Define a function that accepts a string that is a word. The function should capitalize the first letter of the word if the word starts with a consonant."
   ]
  },
  {
   "cell_type": "code",
   "execution_count": 12,
   "id": "b4e8d6c4",
   "metadata": {},
   "outputs": [],
   "source": [
    "def word_string(s):\n",
    "    \n",
    "    v = ['a','e', 'i', 'o', 'u', 'y'] \n",
    "    \n",
    "    if s[0] not in v:\n",
    "        \n",
    "        return str(s[0].upper()) + s[1:]\n",
    "    \n",
    "    else:\n",
    "        \n",
    "        return s\n",
    "    "
   ]
  },
  {
   "cell_type": "code",
   "execution_count": 13,
   "id": "68913bc9",
   "metadata": {},
   "outputs": [
    {
     "data": {
      "text/plain": [
       "'aodeup'"
      ]
     },
     "execution_count": 13,
     "metadata": {},
     "output_type": "execute_result"
    }
   ],
   "source": [
    "word_string('aodeup')"
   ]
  },
  {
   "cell_type": "markdown",
   "id": "e483f065",
   "metadata": {},
   "source": [
    "Define a function named calculate_tip. It should accept a tip percentage (a number between 0 and 1) and the bill total, and return the amount to tip."
   ]
  },
  {
   "cell_type": "code",
   "execution_count": 33,
   "id": "c9c6d1da",
   "metadata": {},
   "outputs": [],
   "source": [
    "def calculate_tip(p, b):\n",
    "    \n",
    "    a = p * b\n",
    "    \n",
    "    return a"
   ]
  },
  {
   "cell_type": "code",
   "execution_count": 34,
   "id": "820a5bfe",
   "metadata": {},
   "outputs": [
    {
     "data": {
      "text/plain": [
       "5.0"
      ]
     },
     "execution_count": 34,
     "metadata": {},
     "output_type": "execute_result"
    }
   ],
   "source": [
    "calculate_tip(.50, 10)"
   ]
  },
  {
   "cell_type": "markdown",
   "id": "a4c514e2",
   "metadata": {},
   "source": [
    "Define a function named apply_discount. It should accept a original price, and a discount percentage, and return the price after the discount is applied."
   ]
  },
  {
   "cell_type": "code",
   "execution_count": 37,
   "id": "1a63588b",
   "metadata": {},
   "outputs": [],
   "source": [
    "def apply_discount(o, d):\n",
    "    \n",
    "    da = o * d \n",
    "    \n",
    "    return o - da\n",
    "    "
   ]
  },
  {
   "cell_type": "code",
   "execution_count": 38,
   "id": "bb6a8d8c",
   "metadata": {},
   "outputs": [
    {
     "data": {
      "text/plain": [
       "10.0"
      ]
     },
     "execution_count": 38,
     "metadata": {},
     "output_type": "execute_result"
    }
   ],
   "source": [
    "apply_discount(20, .50)"
   ]
  },
  {
   "cell_type": "markdown",
   "id": "006b81ee",
   "metadata": {},
   "source": [
    "Define a function named handle_commas. It should accept a string that is a number that contains commas in it as input, and return a number as output."
   ]
  },
  {
   "cell_type": "code",
   "execution_count": 53,
   "id": "9bcd2656",
   "metadata": {},
   "outputs": [],
   "source": [
    "def handle_commas(n):\n",
    "    \n",
    "    n = n.replace(',', '')\n",
    "    \n",
    "    return int(n)"
   ]
  },
  {
   "cell_type": "code",
   "execution_count": 54,
   "id": "d01fb0a1",
   "metadata": {},
   "outputs": [
    {
     "data": {
      "text/plain": [
       "1000000"
      ]
     },
     "execution_count": 54,
     "metadata": {},
     "output_type": "execute_result"
    }
   ],
   "source": [
    "handle_commas('1,000,000')"
   ]
  },
  {
   "cell_type": "markdown",
   "id": "b666b75d",
   "metadata": {},
   "source": [
    "Define a function named get_letter_grade. It should accept a number and return the letter grade associated with that number (A-F)."
   ]
  },
  {
   "cell_type": "code",
   "execution_count": null,
   "id": "54645009",
   "metadata": {},
   "outputs": [],
   "source": [
    "def get_letter_grade(g):\n",
    "    \n",
    "    \n",
    "    "
   ]
  }
 ],
 "metadata": {
  "kernelspec": {
   "display_name": "Python 3 (ipykernel)",
   "language": "python",
   "name": "python3"
  },
  "language_info": {
   "codemirror_mode": {
    "name": "ipython",
    "version": 3
   },
   "file_extension": ".py",
   "mimetype": "text/x-python",
   "name": "python",
   "nbconvert_exporter": "python",
   "pygments_lexer": "ipython3",
   "version": "3.10.9"
  }
 },
 "nbformat": 4,
 "nbformat_minor": 5
}
