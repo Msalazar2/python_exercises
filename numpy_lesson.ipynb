{
 "cells": [
  {
   "cell_type": "code",
   "execution_count": 1,
   "id": "28a3b26a",
   "metadata": {},
   "outputs": [
    {
     "data": {
      "application/javascript": [
       "IPython.notebook.set_autosave_interval(0)"
      ]
     },
     "metadata": {},
     "output_type": "display_data"
    },
    {
     "name": "stdout",
     "output_type": "stream",
     "text": [
      "Autosave disabled\n"
     ]
    }
   ],
   "source": [
    "%autosave 0"
   ]
  },
  {
   "cell_type": "markdown",
   "id": "a2c67dc6",
   "metadata": {},
   "source": [
    "Numpy makes it easy for us to work with large amounts of numerical data in arrays. Many other libraries (including Pandas) are built on Numpy. It's important to be familiar working with this library in order to understand the functionality of the other libraries."
   ]
  },
  {
   "cell_type": "code",
   "execution_count": 1,
   "id": "5dd07665",
   "metadata": {},
   "outputs": [],
   "source": [
    "#standard import\n",
    "import numpy as np"
   ]
  },
  {
   "cell_type": "markdown",
   "id": "59e02592",
   "metadata": {},
   "source": [
    "We create Numpy arrays with the np.array function. Inside the function, we can pass a list as the argument."
   ]
  },
  {
   "cell_type": "code",
   "execution_count": 2,
   "id": "ca2086f2",
   "metadata": {},
   "outputs": [
    {
     "data": {
      "text/plain": [
       "array([1, 2, 3, 4, 5])"
      ]
     },
     "execution_count": 2,
     "metadata": {},
     "output_type": "execute_result"
    }
   ],
   "source": [
    "array = np.array([1, 2, 3, 4, 5])\n",
    "array"
   ]
  },
  {
   "cell_type": "markdown",
   "id": "b499fc7c",
   "metadata": {},
   "source": [
    "We can index a Numpy array, much like a list!"
   ]
  },
  {
   "cell_type": "code",
   "execution_count": 4,
   "id": "9a786ae8",
   "metadata": {},
   "outputs": [
    {
     "data": {
      "text/plain": [
       "1"
      ]
     },
     "execution_count": 4,
     "metadata": {},
     "output_type": "execute_result"
    }
   ],
   "source": [
    "array[0]"
   ]
  },
  {
   "cell_type": "code",
   "execution_count": 5,
   "id": "790a9d62",
   "metadata": {},
   "outputs": [
    {
     "data": {
      "text/plain": [
       "array([3, 4, 5])"
      ]
     },
     "execution_count": 5,
     "metadata": {},
     "output_type": "execute_result"
    }
   ],
   "source": [
    "array[2:]"
   ]
  },
  {
   "cell_type": "code",
   "execution_count": 6,
   "id": "35d59c07",
   "metadata": {},
   "outputs": [
    {
     "data": {
      "text/plain": [
       "array([3, 4, 5])"
      ]
     },
     "execution_count": 6,
     "metadata": {},
     "output_type": "execute_result"
    }
   ],
   "source": [
    "array[-3:]"
   ]
  },
  {
   "cell_type": "code",
   "execution_count": 7,
   "id": "37c6b463",
   "metadata": {},
   "outputs": [
    {
     "data": {
      "text/plain": [
       "array([1, 2])"
      ]
     },
     "execution_count": 7,
     "metadata": {},
     "output_type": "execute_result"
    }
   ],
   "source": [
    "array[:-3]"
   ]
  },
  {
   "cell_type": "markdown",
   "id": "25065141",
   "metadata": {},
   "source": [
    "Vectorized operations allow us to perform a mathematical operation on EVERY number in an array.\n",
    "\n",
    "Let's compare how we could do the same thing with a list and a Numpy array."
   ]
  },
  {
   "cell_type": "code",
   "execution_count": 8,
   "id": "81a1286f",
   "metadata": {},
   "outputs": [
    {
     "data": {
      "text/plain": [
       "array([10, 20, 30, 40, 50])"
      ]
     },
     "execution_count": 8,
     "metadata": {},
     "output_type": "execute_result"
    }
   ],
   "source": [
    "array * 10"
   ]
  },
  {
   "cell_type": "code",
   "execution_count": 9,
   "id": "cc20b33b",
   "metadata": {},
   "outputs": [],
   "source": [
    "my_list = [1, 2, 3, 4, 5]"
   ]
  },
  {
   "cell_type": "code",
   "execution_count": 10,
   "id": "eca31107",
   "metadata": {
    "scrolled": true
   },
   "outputs": [
    {
     "data": {
      "text/plain": [
       "[1,\n",
       " 2,\n",
       " 3,\n",
       " 4,\n",
       " 5,\n",
       " 1,\n",
       " 2,\n",
       " 3,\n",
       " 4,\n",
       " 5,\n",
       " 1,\n",
       " 2,\n",
       " 3,\n",
       " 4,\n",
       " 5,\n",
       " 1,\n",
       " 2,\n",
       " 3,\n",
       " 4,\n",
       " 5,\n",
       " 1,\n",
       " 2,\n",
       " 3,\n",
       " 4,\n",
       " 5,\n",
       " 1,\n",
       " 2,\n",
       " 3,\n",
       " 4,\n",
       " 5,\n",
       " 1,\n",
       " 2,\n",
       " 3,\n",
       " 4,\n",
       " 5,\n",
       " 1,\n",
       " 2,\n",
       " 3,\n",
       " 4,\n",
       " 5,\n",
       " 1,\n",
       " 2,\n",
       " 3,\n",
       " 4,\n",
       " 5,\n",
       " 1,\n",
       " 2,\n",
       " 3,\n",
       " 4,\n",
       " 5]"
      ]
     },
     "execution_count": 10,
     "metadata": {},
     "output_type": "execute_result"
    }
   ],
   "source": [
    "my_list * 10"
   ]
  },
  {
   "cell_type": "code",
   "execution_count": 11,
   "id": "f480dfcc",
   "metadata": {},
   "outputs": [
    {
     "data": {
      "text/plain": [
       "[10, 20, 30, 40, 50]"
      ]
     },
     "execution_count": 11,
     "metadata": {},
     "output_type": "execute_result"
    }
   ],
   "source": [
    "new_list = []\n",
    "for n in my_list:\n",
    "    new_list.append(n * 10)\n",
    "new_list"
   ]
  },
  {
   "cell_type": "markdown",
   "id": "ee7038d5",
   "metadata": {},
   "source": [
    "Boolean masking is an important concept we will apply consistently with Pandas. We will get back an array filled with Boolean values, and use it to MASK (hide or remove) certain values from the output."
   ]
  },
  {
   "cell_type": "code",
   "execution_count": 14,
   "id": "ae2e9ec1",
   "metadata": {},
   "outputs": [
    {
     "data": {
      "text/plain": [
       "array([False, False, False,  True,  True])"
      ]
     },
     "execution_count": 14,
     "metadata": {},
     "output_type": "execute_result"
    }
   ],
   "source": [
    "mask = array > 3\n",
    "\n",
    "mask"
   ]
  },
  {
   "cell_type": "code",
   "execution_count": 15,
   "id": "d8909c9b",
   "metadata": {},
   "outputs": [
    {
     "data": {
      "text/plain": [
       "array([4, 5])"
      ]
     },
     "execution_count": 15,
     "metadata": {},
     "output_type": "execute_result"
    }
   ],
   "source": [
    "array[mask]"
   ]
  },
  {
   "cell_type": "code",
   "execution_count": 16,
   "id": "f9d26b5d",
   "metadata": {},
   "outputs": [
    {
     "data": {
      "text/plain": [
       "array([1, 2])"
      ]
     },
     "execution_count": 16,
     "metadata": {},
     "output_type": "execute_result"
    }
   ],
   "source": [
    "array[array < 3]"
   ]
  },
  {
   "cell_type": "markdown",
   "id": "2e03f7d8",
   "metadata": {},
   "source": [
    "We can create arrays from the standard normal distribution (mean of 0, standard deviation of 1) using np.random.randn. We specify the shape of the resulting array as the argument for the function."
   ]
  },
  {
   "cell_type": "code",
   "execution_count": 17,
   "id": "c0c9908f",
   "metadata": {},
   "outputs": [
    {
     "data": {
      "text/plain": [
       "array([-0.19838096,  0.05364925,  0.33323013,  0.1156759 ,  0.30623338])"
      ]
     },
     "execution_count": 17,
     "metadata": {},
     "output_type": "execute_result"
    }
   ],
   "source": [
    "st_norm = np.random.randn(5)\n",
    "st_norm"
   ]
  },
  {
   "cell_type": "code",
   "execution_count": 18,
   "id": "bbc430c5",
   "metadata": {},
   "outputs": [
    {
     "data": {
      "text/plain": [
       "array([[-1.82331114,  0.16536433, -0.40023985],\n",
       "       [-2.24554373, -1.65920752,  0.41243216],\n",
       "       [ 1.4977816 ,  0.6845246 , -0.38872777]])"
      ]
     },
     "execution_count": 18,
     "metadata": {},
     "output_type": "execute_result"
    }
   ],
   "source": [
    "np.random.randn(3, 3)"
   ]
  },
  {
   "cell_type": "markdown",
   "id": "7bb79d65",
   "metadata": {},
   "source": [
    "We can create arrays from other normal distributions using np.random.normal. To this function, we will pass in arguments specifying the mean, the standard deviation, and the size of the resulting array."
   ]
  },
  {
   "cell_type": "code",
   "execution_count": 21,
   "id": "52f2ba1b",
   "metadata": {},
   "outputs": [
    {
     "data": {
      "text/plain": [
       "array([30.37277098, 32.00970347, 29.28676299, 30.45344795, 37.73653484])"
      ]
     },
     "execution_count": 21,
     "metadata": {},
     "output_type": "execute_result"
    }
   ],
   "source": [
    "my_norm = np.random.normal(30, 5, 5)\n",
    "my_norm"
   ]
  },
  {
   "cell_type": "markdown",
   "id": "476b3557",
   "metadata": {},
   "source": [
    "We can create arrays from a range using np.arange. We specify the starting value, the stopping value, and the step size."
   ]
  },
  {
   "cell_type": "code",
   "execution_count": 23,
   "id": "21893d97",
   "metadata": {},
   "outputs": [
    {
     "data": {
      "text/plain": [
       "array([0, 3, 6, 9])"
      ]
     },
     "execution_count": 23,
     "metadata": {},
     "output_type": "execute_result"
    }
   ],
   "source": [
    "range_array = np.arange(0, 12, 3)\n",
    "range_array"
   ]
  },
  {
   "cell_type": "markdown",
   "id": "e555630b",
   "metadata": {},
   "source": [
    "We can call a number of array methods to return descriptive statistics, such as min, max, mean, standard deviation, and sum."
   ]
  },
  {
   "cell_type": "code",
   "execution_count": 24,
   "id": "d4c55d62",
   "metadata": {},
   "outputs": [
    {
     "data": {
      "text/plain": [
       "18"
      ]
     },
     "execution_count": 24,
     "metadata": {},
     "output_type": "execute_result"
    }
   ],
   "source": [
    "range_array.sum()"
   ]
  },
  {
   "cell_type": "code",
   "execution_count": 25,
   "id": "c2d65ba0",
   "metadata": {},
   "outputs": [
    {
     "data": {
      "text/plain": [
       "4.5"
      ]
     },
     "execution_count": 25,
     "metadata": {},
     "output_type": "execute_result"
    }
   ],
   "source": [
    "range_array.mean()"
   ]
  },
  {
   "cell_type": "code",
   "execution_count": 26,
   "id": "198d94a8",
   "metadata": {},
   "outputs": [
    {
     "data": {
      "text/plain": [
       "9"
      ]
     },
     "execution_count": 26,
     "metadata": {},
     "output_type": "execute_result"
    }
   ],
   "source": [
    "range_array.max()"
   ]
  },
  {
   "cell_type": "code",
   "execution_count": null,
   "id": "4baf6ff1",
   "metadata": {},
   "outputs": [],
   "source": []
  }
 ],
 "metadata": {
  "kernelspec": {
   "display_name": "Python 3 (ipykernel)",
   "language": "python",
   "name": "python3"
  },
  "language_info": {
   "codemirror_mode": {
    "name": "ipython",
    "version": 3
   },
   "file_extension": ".py",
   "mimetype": "text/x-python",
   "name": "python",
   "nbconvert_exporter": "python",
   "pygments_lexer": "ipython3",
   "version": "3.10.9"
  }
 },
 "nbformat": 4,
 "nbformat_minor": 5
}
