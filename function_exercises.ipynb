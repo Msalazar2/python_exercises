{
 "cells": [
  {
   "cell_type": "markdown",
   "id": "a539fc84",
   "metadata": {},
   "source": [
    "Define a function named is_two. It should accept one input and return True if the passed input is either the number or the string 2, False otherwise.\n",
    "\n"
   ]
  },
  {
   "cell_type": "code",
   "execution_count": 25,
   "id": "2b8bccb3",
   "metadata": {},
   "outputs": [],
   "source": [
    "def is_two(i):\n",
    "     \n",
    "    return i == 2 or i == '2'\n",
    "   \n",
    "    "
   ]
  },
  {
   "cell_type": "code",
   "execution_count": 26,
   "id": "2d2c2205",
   "metadata": {},
   "outputs": [
    {
     "name": "stdout",
     "output_type": "stream",
     "text": [
      "False\n",
      "True\n",
      "True\n"
     ]
    }
   ],
   "source": [
    "print(is_two(3))\n",
    "print(is_two('2'))\n",
    "print(is_two(2))"
   ]
  },
  {
   "cell_type": "markdown",
   "id": "ef39262f",
   "metadata": {},
   "source": [
    "Define a function named is_vowel. It should return True if the passed string is a vowel, False otherwise"
   ]
  },
  {
   "cell_type": "code",
   "execution_count": 29,
   "id": "8a4ffdeb",
   "metadata": {},
   "outputs": [],
   "source": [
    "def is_vowel(s):\n",
    "    \n",
    "    v = ['a','e', 'i', 'o', 'u', 'y']\n",
    "    \n",
    "    return s in v\n",
    "    "
   ]
  },
  {
   "cell_type": "code",
   "execution_count": 33,
   "id": "231e8bb6",
   "metadata": {},
   "outputs": [
    {
     "data": {
      "text/plain": [
       "False"
      ]
     },
     "execution_count": 33,
     "metadata": {},
     "output_type": "execute_result"
    }
   ],
   "source": [
    "is_vowel('g')"
   ]
  },
  {
   "cell_type": "markdown",
   "id": "134f09ab",
   "metadata": {},
   "source": [
    "Define a function named is_consonant. It should return True if the passed string is a consonant, False otherwise. Use your is_vowel function to accomplish this."
   ]
  },
  {
   "cell_type": "code",
   "execution_count": 1,
   "id": "4527074f",
   "metadata": {},
   "outputs": [],
   "source": [
    "def is_consonant(c):\n",
    "    \n",
    "    v = ['a','e', 'i', 'o', 'u', 'y']\n",
    "    \n",
    "    return c not in v"
   ]
  },
  {
   "cell_type": "code",
   "execution_count": 2,
   "id": "3f16b364",
   "metadata": {},
   "outputs": [
    {
     "data": {
      "text/plain": [
       "False"
      ]
     },
     "execution_count": 2,
     "metadata": {},
     "output_type": "execute_result"
    }
   ],
   "source": [
    "is_consonant('a')"
   ]
  },
  {
   "cell_type": "markdown",
   "id": "7fea9715",
   "metadata": {},
   "source": [
    "Define a function that accepts a string that is a word. The function should capitalize the first letter of the word if the word starts with a consonant."
   ]
  },
  {
   "cell_type": "code",
   "execution_count": 12,
   "id": "ced59f65",
   "metadata": {},
   "outputs": [],
   "source": [
    "def word_string(s):\n",
    "    \n",
    "    v = ['a','e', 'i', 'o', 'u', 'y'] \n",
    "    \n",
    "    if s[0] not in v:\n",
    "        \n",
    "        return str(s[0].upper()) + s[1:]\n",
    "    \n",
    "    else:\n",
    "        \n",
    "        return s\n",
    "    "
   ]
  },
  {
   "cell_type": "code",
   "execution_count": 13,
   "id": "ee3ffb62",
   "metadata": {},
   "outputs": [
    {
     "data": {
      "text/plain": [
       "'aodeup'"
      ]
     },
     "execution_count": 13,
     "metadata": {},
     "output_type": "execute_result"
    }
   ],
   "source": [
    "word_string('aodeup')"
   ]
  },
  {
   "cell_type": "markdown",
   "id": "3881610d",
   "metadata": {},
   "source": [
    "Define a function named calculate_tip. It should accept a tip percentage (a number between 0 and 1) and the bill total, and return the amount to tip."
   ]
  },
  {
   "cell_type": "code",
   "execution_count": 68,
   "id": "68e94c7f",
   "metadata": {},
   "outputs": [],
   "source": [
    "def calculate_tip(p, b):\n",
    "    \n",
    "    return p * b"
   ]
  },
  {
   "cell_type": "code",
   "execution_count": 69,
   "id": "03646d4f",
   "metadata": {},
   "outputs": [
    {
     "data": {
      "text/plain": [
       "5.0"
      ]
     },
     "execution_count": 69,
     "metadata": {},
     "output_type": "execute_result"
    }
   ],
   "source": [
    "calculate_tip(.50, 10)"
   ]
  },
  {
   "cell_type": "markdown",
   "id": "d12396eb",
   "metadata": {},
   "source": [
    "Define a function named apply_discount. It should accept a original price, and a discount percentage, and return the price after the discount is applied."
   ]
  },
  {
   "cell_type": "code",
   "execution_count": 70,
   "id": "72bef663",
   "metadata": {},
   "outputs": [],
   "source": [
    "def apply_discount(o, d):\n",
    "    \n",
    "    return o - (o * d)\n",
    "    "
   ]
  },
  {
   "cell_type": "code",
   "execution_count": 71,
   "id": "dd610a11",
   "metadata": {},
   "outputs": [
    {
     "data": {
      "text/plain": [
       "10.0"
      ]
     },
     "execution_count": 71,
     "metadata": {},
     "output_type": "execute_result"
    }
   ],
   "source": [
    "apply_discount(20, .50)"
   ]
  },
  {
   "cell_type": "markdown",
   "id": "18de9ed9",
   "metadata": {},
   "source": [
    "Define a function named handle_commas. It should accept a string that is a number that contains commas in it as input, and return a number as output."
   ]
  },
  {
   "cell_type": "code",
   "execution_count": 72,
   "id": "e96f38b7",
   "metadata": {},
   "outputs": [],
   "source": [
    "def handle_commas(n):\n",
    "    \n",
    "    return int(n.replace(',', ''))"
   ]
  },
  {
   "cell_type": "code",
   "execution_count": 73,
   "id": "83606188",
   "metadata": {},
   "outputs": [
    {
     "data": {
      "text/plain": [
       "1000000"
      ]
     },
     "execution_count": 73,
     "metadata": {},
     "output_type": "execute_result"
    }
   ],
   "source": [
    "handle_commas('1,000,000')"
   ]
  },
  {
   "cell_type": "markdown",
   "id": "767e7fa2",
   "metadata": {},
   "source": [
    "Define a function named get_letter_grade. It should accept a number and return the letter grade associated with that number (A-F)."
   ]
  },
  {
   "cell_type": "code",
   "execution_count": 93,
   "id": "c199e70a",
   "metadata": {},
   "outputs": [],
   "source": [
    "def get_letter_grade(grade): \n",
    "        \n",
    "        if grade >= '88' and grade <= '100':\n",
    "        \n",
    "            grade = 'A'\n",
    "    \n",
    "        elif grade >= '80' and grade <= '87':\n",
    "        \n",
    "            grade = 'B'\n",
    "    \n",
    "        elif grade >= '67' and grade <= '79':\n",
    "        \n",
    "            grade = 'C'\n",
    "    \n",
    "        elif grade >= '60' and grade <= '66':\n",
    "        \n",
    "            grade = 'D'\n",
    "    \n",
    "        else:\n",
    "        \n",
    "            grade = 'F'\n",
    "            \n",
    "        return grade\n"
   ]
  },
  {
   "cell_type": "code",
   "execution_count": 94,
   "id": "85ba8f64",
   "metadata": {},
   "outputs": [
    {
     "data": {
      "text/plain": [
       "'F'"
      ]
     },
     "execution_count": 94,
     "metadata": {},
     "output_type": "execute_result"
    }
   ],
   "source": [
    "get_letter_grade('10')"
   ]
  },
  {
   "cell_type": "code",
   "execution_count": 101,
   "id": "969425c3",
   "metadata": {},
   "outputs": [],
   "source": [
    "def get_letter_grade(grade): \n",
    "        \n",
    "        if int(grade >= 88 and grade <= 100):\n",
    "        \n",
    "            grade = 'A'\n",
    "    \n",
    "        elif int(grade >= 80 and grade <= 87):\n",
    "        \n",
    "            grade = 'B'\n",
    "    \n",
    "        elif int(grade >= 67 and grade <= 79):\n",
    "        \n",
    "            grade = 'C'\n",
    "    \n",
    "        elif int(grade >= 60 and grade <= 66):\n",
    "        \n",
    "            grade = 'D'\n",
    "    \n",
    "        else:\n",
    "        \n",
    "            grade = 'F'\n",
    "            \n",
    "        return grade"
   ]
  },
  {
   "cell_type": "code",
   "execution_count": 102,
   "id": "20b8562b",
   "metadata": {},
   "outputs": [
    {
     "data": {
      "text/plain": [
       "'F'"
      ]
     },
     "execution_count": 102,
     "metadata": {},
     "output_type": "execute_result"
    }
   ],
   "source": [
    "get_letter_grade(5)"
   ]
  },
  {
   "cell_type": "markdown",
   "id": "658c8e91",
   "metadata": {},
   "source": [
    "Define a function named normalize_name. It should accept a string and return a valid python identifier, that is:\n",
    "\n",
    "anything that is not a valid python identifier should be removed\n",
    "\n",
    "leading and trailing whitespace should be removed\n",
    "\n",
    "everything should be lowercase\n",
    "\n",
    "spaces should be replaced with underscores\n",
    "for example:\n",
    "\n",
    "Name will become name\n",
    "\n",
    "First Name will become first_name\n",
    "\n",
    "% Completed will become completed"
   ]
  },
  {
   "cell_type": "code",
   "execution_count": 24,
   "id": "84ef2d65",
   "metadata": {},
   "outputs": [],
   "source": [
    "def normalize_name(c):\n",
    "    \n",
    "    alnum = '' \n",
    "    prev_letter = ''\n",
    "\n",
    "    c.strip()\n",
    "    \n",
    "    for l in c:\n",
    "        \n",
    "        if l.isalnum() == True:\n",
    "            \n",
    "            alnum += l.lower()\n",
    "        \n",
    "        elif l == ' ' and prev_letter.isalnum() == True:\n",
    "\n",
    "            alnum += '_'\n",
    "        \n",
    "        else:\n",
    "\n",
    "            alnum += ''\n",
    "            prev_letter = l\n",
    "             \n",
    "    if  alnum[len(alnum)-1] == '_':\n",
    "        alnum = alnum[:1]\n",
    "        \n",
    "    return alnum\n",
    "            "
   ]
  },
  {
   "cell_type": "code",
   "execution_count": 25,
   "id": "d9b704c9",
   "metadata": {},
   "outputs": [],
   "source": [
    "def normailze_name(i):\n",
    "    output = ''\n",
    "    for char in i:\n",
    "        if char.isalnum() or cahr == ' ':\n",
    "            output += char\n",
    "    return  output.strip().lower().replace(' ','_').replace('__','_')"
   ]
  },
  {
   "cell_type": "code",
   "execution_count": 26,
   "id": "d6ff5bcd",
   "metadata": {},
   "outputs": [
    {
     "data": {
      "text/plain": [
       "'name'"
      ]
     },
     "execution_count": 26,
     "metadata": {},
     "output_type": "execute_result"
    }
   ],
   "source": [
    "normalize_name('name')"
   ]
  },
  {
   "cell_type": "code",
   "execution_count": 27,
   "id": "718fe4e2",
   "metadata": {},
   "outputs": [
    {
     "data": {
      "text/plain": [
       "'firstname'"
      ]
     },
     "execution_count": 27,
     "metadata": {},
     "output_type": "execute_result"
    }
   ],
   "source": [
    "normalize_name('First  Name')"
   ]
  },
  {
   "cell_type": "code",
   "execution_count": 28,
   "id": "e279665d",
   "metadata": {},
   "outputs": [
    {
     "data": {
      "text/plain": [
       "'completed'"
      ]
     },
     "execution_count": 28,
     "metadata": {},
     "output_type": "execute_result"
    }
   ],
   "source": [
    "normalize_name('% completed')"
   ]
  },
  {
   "cell_type": "code",
   "execution_count": 29,
   "id": "66498140",
   "metadata": {},
   "outputs": [
    {
     "data": {
      "text/plain": [
       "'completed'"
      ]
     },
     "execution_count": 29,
     "metadata": {},
     "output_type": "execute_result"
    }
   ],
   "source": [
    "normalize_name('% Completed %')"
   ]
  },
  {
   "cell_type": "markdown",
   "id": "0580caff",
   "metadata": {},
   "source": [
    "Write a function named cumulative_sum that accepts a list of numbers and returns a list that is the cumulative sum of the numbers in the list.\n",
    "cumulative_sum([1, 1, 1]) returns [1, 2, 3]\n",
    "cumulative_sum([1, 2, 3, 4]) returns [1, 3, 6, 10]\n"
   ]
  },
  {
   "cell_type": "code",
   "execution_count": 32,
   "id": "afbc60b5",
   "metadata": {},
   "outputs": [],
   "source": [
    "def cumulative_sum(input):\n",
    "    new_list = []\n",
    "    count = 1\n",
    "    for num in input: \n",
    "        list_sum = sum(input[:count])\n",
    "        new_list.append(list_sum)\n",
    "        count += 1\n",
    "    return new_list"
   ]
  },
  {
   "cell_type": "code",
   "execution_count": 33,
   "id": "7fd2dcf1",
   "metadata": {},
   "outputs": [
    {
     "data": {
      "text/plain": [
       "[1, 2, 3]"
      ]
     },
     "execution_count": 33,
     "metadata": {},
     "output_type": "execute_result"
    }
   ],
   "source": [
    "cumulative_sum([1, 1, 1])"
   ]
  },
  {
   "cell_type": "code",
   "execution_count": 34,
   "id": "f791758c",
   "metadata": {},
   "outputs": [
    {
     "data": {
      "text/plain": [
       "[1, 3, 6, 10]"
      ]
     },
     "execution_count": 34,
     "metadata": {},
     "output_type": "execute_result"
    }
   ],
   "source": [
    "cumulative_sum([1, 2, 3, 4])"
   ]
  },
  {
   "cell_type": "code",
   "execution_count": null,
   "id": "d87023c6",
   "metadata": {},
   "outputs": [],
   "source": []
  }
 ],
 "metadata": {
  "kernelspec": {
   "display_name": "Python 3 (ipykernel)",
   "language": "python",
   "name": "python3"
  },
  "language_info": {
   "codemirror_mode": {
    "name": "ipython",
    "version": 3
   },
   "file_extension": ".py",
   "mimetype": "text/x-python",
   "name": "python",
   "nbconvert_exporter": "python",
   "pygments_lexer": "ipython3",
   "version": "3.10.9"
  }
 },
 "nbformat": 4,
 "nbformat_minor": 5
}
