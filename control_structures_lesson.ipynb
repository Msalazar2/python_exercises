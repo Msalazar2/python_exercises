{
 "cells": [
  {
   "cell_type": "code",
   "execution_count": 1,
   "id": "c0631b47",
   "metadata": {},
   "outputs": [
    {
     "data": {
      "application/javascript": [
       "IPython.notebook.set_autosave_interval(0)"
      ]
     },
     "metadata": {},
     "output_type": "display_data"
    },
    {
     "name": "stdout",
     "output_type": "stream",
     "text": [
      "Autosave disabled\n"
     ]
    }
   ],
   "source": [
    "%autosave 0"
   ]
  },
  {
   "cell_type": "markdown",
   "id": "c5b1750c",
   "metadata": {},
   "source": [
    "# Control structures lesson\n",
    "1. If/elif/else\n",
    "1. For loop\n",
    "1. List comprehension\n",
    "1. While loop\n",
    "1. Break and continue\n",
    "1. Prompt user for input"
   ]
  },
  {
   "cell_type": "markdown",
   "id": "6a1b3863",
   "metadata": {},
   "source": [
    "### If/else\n",
    "\n",
    "If some condition is met, execute the following code.\n",
    "\n",
    "If it's not, execute the code under the else statement!"
   ]
  },
  {
   "cell_type": "markdown",
   "id": "b936b231",
   "metadata": {},
   "source": [
    "breaks once the first condition is true"
   ]
  },
  {
   "cell_type": "code",
   "execution_count": 13,
   "id": "34008f9b",
   "metadata": {},
   "outputs": [
    {
     "name": "stdout",
     "output_type": "stream",
     "text": [
      "hoodie weather\n"
     ]
    }
   ],
   "source": [
    "temp = 45\n",
    "\n",
    "if temp > 85:\n",
    "    \n",
    "    print('it\\'s hot')\n",
    "    \n",
    "elif temp > 65:\n",
    "    \n",
    "    print('warm')\n",
    "\n",
    "else:\n",
    "    \n",
    "    print('hoodie weather')"
   ]
  },
  {
   "cell_type": "code",
   "execution_count": 3,
   "id": "fdb181c8-c936-4919-a290-c1ab89bc115d",
   "metadata": {},
   "outputs": [
    {
     "name": "stdout",
     "output_type": "stream",
     "text": [
      "adult\n"
     ]
    }
   ],
   "source": [
    "age = 19\n",
    "\n",
    "if age > 17:\n",
    "    \n",
    "    print('adult')\n",
    "    \n",
    "elif age < 18:\n",
    "    \n",
    "    print('minor')"
   ]
  },
  {
   "cell_type": "code",
   "execution_count": 7,
   "id": "19d1d5cc-d6a7-4017-817a-26f446f3a956",
   "metadata": {},
   "outputs": [
    {
     "name": "stdout",
     "output_type": "stream",
     "text": [
      "present\n"
     ]
    }
   ],
   "source": [
    "year = 2024\n",
    "\n",
    "if year > 2024:\n",
    "    \n",
    "    print('future')\n",
    "    \n",
    "elif year < 2024:\n",
    "    \n",
    "    print('past')\n",
    "    \n",
    "else:\n",
    "    \n",
    "    print('present')"
   ]
  },
  {
   "cell_type": "code",
   "execution_count": 19,
   "id": "38b8c43e-9c6a-4a3d-b35d-3b91d2703190",
   "metadata": {},
   "outputs": [
    {
     "name": "stdout",
     "output_type": "stream",
     "text": [
      "afternoon/evening\n"
     ]
    }
   ],
   "source": [
    "time = 12.5\n",
    "\n",
    "if time == 12:\n",
    "    \n",
    "    print('noon')\n",
    "    \n",
    "elif time < 12:\n",
    "    \n",
    "    print('morning')\n",
    "    \n",
    "else:\n",
    "    \n",
    "    print('afternoon/evening')"
   ]
  },
  {
   "cell_type": "markdown",
   "id": "c7e093e8",
   "metadata": {},
   "source": [
    "### For loop\n",
    "\n",
    "For item in list, perform some operation!"
   ]
  },
  {
   "cell_type": "markdown",
   "id": "bbc167fb",
   "metadata": {},
   "source": [
    "knows when to break bassed on last element of list"
   ]
  },
  {
   "cell_type": "code",
   "execution_count": 5,
   "id": "8691a441",
   "metadata": {},
   "outputs": [
    {
     "data": {
      "text/plain": [
       "[1, 4, 9, 16, 25, 36, 49, 64, 81, 100]"
      ]
     },
     "execution_count": 5,
     "metadata": {},
     "output_type": "execute_result"
    }
   ],
   "source": [
    "my_num = list(range(1,11))\n",
    "sq_list = []\n",
    "\n",
    "for i in my_num:\n",
    "    \n",
    "    sq_list.append(i**2)\n",
    "    \n",
    "sq_list\n"
   ]
  },
  {
   "cell_type": "code",
   "execution_count": 3,
   "id": "a347dbad-98b7-4c63-93d6-cd84e653c98c",
   "metadata": {},
   "outputs": [
    {
     "data": {
      "text/plain": [
       "[2010,\n",
       " 2011,\n",
       " 2012,\n",
       " 2013,\n",
       " 2014,\n",
       " 2015,\n",
       " 2016,\n",
       " 2017,\n",
       " 2018,\n",
       " 2019,\n",
       " 2020,\n",
       " 2021,\n",
       " 2022,\n",
       " 2023,\n",
       " 2024,\n",
       " 2025,\n",
       " 2026,\n",
       " 2027,\n",
       " 2028,\n",
       " 2029,\n",
       " 2030,\n",
       " 2031,\n",
       " 2032,\n",
       " 2033,\n",
       " 2034]"
      ]
     },
     "execution_count": 3,
     "metadata": {},
     "output_type": "execute_result"
    }
   ],
   "source": [
    "years = list(range(2000,2025))\n",
    "add = []\n",
    "\n",
    "for i in years:\n",
    "    \n",
    "    add.append(i+10)\n",
    "    \n",
    "add"
   ]
  },
  {
   "cell_type": "code",
   "execution_count": 6,
   "id": "05c20e3a-8f67-4dfd-a52e-74929fe9d4e3",
   "metadata": {},
   "outputs": [
    {
     "data": {
      "text/plain": [
       "[10, 20, 30, 40, 50, 60, 70, 80, 90]"
      ]
     },
     "execution_count": 6,
     "metadata": {},
     "output_type": "execute_result"
    }
   ],
   "source": [
    "num = list(range(1, 10))\n",
    "mult = []\n",
    "\n",
    "for i in num:\n",
    "    \n",
    "    mult.append(i*10)\n",
    "    \n",
    "mult"
   ]
  },
  {
   "cell_type": "code",
   "execution_count": 1,
   "id": "b483c564-88a7-4ca4-8183-134210b0ce8e",
   "metadata": {},
   "outputs": [
    {
     "data": {
      "text/plain": [
       "[0.5, 1.0, 1.5, 2.0, 2.5, 3.0, 3.5, 4.0, 4.5, 5.0]"
      ]
     },
     "execution_count": 1,
     "metadata": {},
     "output_type": "execute_result"
    }
   ],
   "source": [
    "r = list(range(1,11))\n",
    "t = []\n",
    "\n",
    "for i in r:\n",
    "    \n",
    "    t.append(i/2)\n",
    "    \n",
    "t"
   ]
  },
  {
   "cell_type": "markdown",
   "id": "4b2fc0f6",
   "metadata": {},
   "source": [
    "### List comprehension\n",
    "\n",
    "Place the results of a for loop back into a list.. immediately!"
   ]
  },
  {
   "cell_type": "code",
   "execution_count": 5,
   "id": "b6001342",
   "metadata": {},
   "outputs": [
    {
     "data": {
      "text/plain": [
       "[1, 4, 9, 16, 25, 36, 49, 64, 81, 100]"
      ]
     },
     "execution_count": 5,
     "metadata": {},
     "output_type": "execute_result"
    }
   ],
   "source": [
    "[i**2 for i in my_num]"
   ]
  },
  {
   "cell_type": "code",
   "execution_count": 8,
   "id": "02a9a45e-e521-4dff-8f6d-6553d91f01d7",
   "metadata": {},
   "outputs": [
    {
     "name": "stdout",
     "output_type": "stream",
     "text": [
      "odd\n",
      "even\n",
      "odd\n",
      "even\n",
      "odd\n",
      "even\n",
      "odd\n",
      "even\n",
      "odd\n",
      "even\n"
     ]
    }
   ],
   "source": [
    "l = [i%2 for i in r]\n",
    "\n",
    "for i in l:\n",
    "\n",
    "    if i == 0:\n",
    "    \n",
    "        print('even')\n",
    "\n",
    "    else:\n",
    "    \n",
    "        print('odd')"
   ]
  },
  {
   "cell_type": "markdown",
   "id": "0e69b12f",
   "metadata": {},
   "source": [
    "### While loop\n",
    "\n",
    "While some conditional statement evaluates to true, continue to execute the code.\n",
    "\n",
    "When the conditional statement evaluates to false, the loop breaks!"
   ]
  },
  {
   "cell_type": "code",
   "execution_count": null,
   "id": "12bd48e8",
   "metadata": {},
   "outputs": [],
   "source": [
    "needs a break like += for it to break"
   ]
  },
  {
   "cell_type": "code",
   "execution_count": 11,
   "id": "71c7f8d2",
   "metadata": {},
   "outputs": [
    {
     "name": "stdout",
     "output_type": "stream",
     "text": [
      "1\n",
      "4\n",
      "9\n",
      "16\n",
      "25\n",
      "36\n",
      "49\n",
      "64\n",
      "81\n",
      "100\n"
     ]
    }
   ],
   "source": [
    "i = 1\n",
    "\n",
    "while i < 11:\n",
    "\n",
    "    print(i**2)\n",
    "    \n",
    "    i += 1\n"
   ]
  },
  {
   "cell_type": "code",
   "execution_count": 15,
   "id": "62ff63e7-d5f6-4dd6-9ac8-8b2032c84a82",
   "metadata": {},
   "outputs": [
    {
     "name": "stdout",
     "output_type": "stream",
     "text": [
      "2023\n",
      "2022\n",
      "2021\n",
      "2020\n",
      "2019\n",
      "2018\n",
      "2017\n",
      "2016\n",
      "2015\n",
      "2014\n",
      "2013\n",
      "2012\n",
      "2011\n",
      "2010\n",
      "2009\n",
      "2008\n",
      "2007\n",
      "2006\n",
      "2005\n",
      "2004\n",
      "2003\n",
      "2002\n",
      "2001\n",
      "2000\n"
     ]
    }
   ],
   "source": [
    "n = 2024\n",
    "\n",
    "while n != 2025:\n",
    "    \n",
    "    print(n-1)\n",
    "    \n",
    "    if n == 2001:\n",
    "    \n",
    "        break\n",
    "    \n",
    "    n -=1\n",
    "    \n"
   ]
  },
  {
   "cell_type": "markdown",
   "id": "ebd0ed8b",
   "metadata": {},
   "source": [
    "### Break and continue\n",
    "\n",
    "The break keyword will \"break\" us out of the looping structure.\n",
    "\n",
    "The continue keyword will move us to the next iteration of the loop."
   ]
  },
  {
   "cell_type": "markdown",
   "id": "8b914dcd",
   "metadata": {},
   "source": [
    "without += i will always =1"
   ]
  },
  {
   "cell_type": "code",
   "execution_count": 18,
   "id": "e4515cb6",
   "metadata": {},
   "outputs": [
    {
     "name": "stdout",
     "output_type": "stream",
     "text": [
      "1\n",
      "2\n",
      "3\n",
      "4\n",
      "5\n",
      "true\n"
     ]
    }
   ],
   "source": [
    "i = 1\n",
    "\n",
    "while i < 11:\n",
    "    \n",
    "    print(i)\n",
    "    \n",
    "    if i == 5:\n",
    "        \n",
    "        print('true')\n",
    "        \n",
    "        break\n",
    "        \n",
    "    i += 1"
   ]
  },
  {
   "cell_type": "code",
   "execution_count": 11,
   "id": "34dd38f3-370a-4d73-98df-2a26fa5d9de4",
   "metadata": {},
   "outputs": [
    {
     "name": "stdout",
     "output_type": "stream",
     "text": [
      "2\n",
      "3\n",
      "4\n",
      "5\n",
      "6\n",
      "7\n",
      "8\n",
      "9\n",
      "10\n",
      "11\n",
      "3\n",
      "4\n",
      "5\n",
      "6\n",
      "7\n",
      "8\n",
      "9\n",
      "10\n",
      "11\n",
      "4\n",
      "5\n",
      "6\n",
      "7\n",
      "8\n",
      "9\n",
      "10\n",
      "11\n",
      "5\n",
      "6\n",
      "7\n",
      "8\n",
      "9\n",
      "10\n",
      "11\n",
      "6\n",
      "7\n",
      "8\n",
      "9\n",
      "10\n",
      "11\n",
      "7\n",
      "8\n",
      "9\n",
      "10\n",
      "11\n",
      "8\n",
      "9\n",
      "10\n",
      "11\n",
      "9\n",
      "10\n",
      "11\n",
      "10\n",
      "11\n",
      "11\n"
     ]
    }
   ],
   "source": [
    "o = list(range(1,11))\n",
    "\n",
    "for i in o:\n",
    "    \n",
    "    while i < 11:\n",
    "        \n",
    "        print(i+1)\n",
    "        \n",
    "        if i == 10:\n",
    "            \n",
    "            break\n",
    "        \n",
    "        i += 1\n",
    "    \n",
    "    "
   ]
  },
  {
   "cell_type": "markdown",
   "id": "9ba78e6d",
   "metadata": {},
   "source": [
    "increment in two places when using continue"
   ]
  },
  {
   "cell_type": "code",
   "execution_count": 2,
   "id": "194d6746",
   "metadata": {},
   "outputs": [
    {
     "name": "stdout",
     "output_type": "stream",
     "text": [
      "1\n",
      "3\n",
      "5\n",
      "7\n",
      "9\n"
     ]
    }
   ],
   "source": [
    "i = 1\n",
    "\n",
    "while i < 11:\n",
    "    \n",
    "    if i % 2 == 0:\n",
    "        \n",
    "        i += 1\n",
    "        \n",
    "        continue\n",
    "        \n",
    "    print(i)\n",
    "    \n",
    "    i += 1\n",
    "    "
   ]
  },
  {
   "cell_type": "markdown",
   "id": "72088e9c",
   "metadata": {},
   "source": [
    "### Prompt user for input\n",
    "\n",
    "Use the input() function to get input from the user."
   ]
  },
  {
   "cell_type": "code",
   "execution_count": 3,
   "id": "d07fd869",
   "metadata": {},
   "outputs": [
    {
     "name": "stdin",
     "output_type": "stream",
     "text": [
      "enter an integer:  1\n"
     ]
    }
   ],
   "source": [
    "my_num = input('enter an integer: ')"
   ]
  },
  {
   "cell_type": "code",
   "execution_count": 4,
   "id": "47c5114f",
   "metadata": {},
   "outputs": [
    {
     "data": {
      "text/plain": [
       "str"
      ]
     },
     "execution_count": 4,
     "metadata": {},
     "output_type": "execute_result"
    }
   ],
   "source": [
    "type(my_num)\n"
   ]
  },
  {
   "cell_type": "code",
   "execution_count": 5,
   "id": "64b2b45e",
   "metadata": {},
   "outputs": [
    {
     "data": {
      "text/plain": [
       "1"
      ]
     },
     "execution_count": 5,
     "metadata": {},
     "output_type": "execute_result"
    }
   ],
   "source": [
    "int(my_num)"
   ]
  },
  {
   "cell_type": "code",
   "execution_count": 7,
   "id": "9d567d10",
   "metadata": {},
   "outputs": [
    {
     "name": "stdin",
     "output_type": "stream",
     "text": [
      "enter an integer:  d\n"
     ]
    },
    {
     "name": "stdout",
     "output_type": "stream",
     "text": [
      "needs an integer\n"
     ]
    }
   ],
   "source": [
    "my_num = input('enter an integer: ')\n",
    "\n",
    "try:\n",
    "    \n",
    "    int(my_num)\n",
    "    \n",
    "    print(\"this works\")\n",
    "    \n",
    "except:\n",
    "    \n",
    "    print('needs an integer')"
   ]
  },
  {
   "cell_type": "code",
   "execution_count": 8,
   "id": "d76203f0",
   "metadata": {},
   "outputs": [
    {
     "name": "stdin",
     "output_type": "stream",
     "text": [
      "enter a year:  2024\n"
     ]
    },
    {
     "name": "stdout",
     "output_type": "stream",
     "text": [
      "The year is 2024\n"
     ]
    }
   ],
   "source": [
    "year = input('enter a year: ')\n",
    "\n",
    "try:\n",
    "    \n",
    "    int(year)\n",
    "    \n",
    "    print(f'The year is {year}')\n",
    "    \n",
    "except:\n",
    "    \n",
    "    print('input must be an integer')"
   ]
  },
  {
   "cell_type": "code",
   "execution_count": null,
   "id": "d302f3f7-9c79-4ecc-8133-85b37ef935a7",
   "metadata": {},
   "outputs": [],
   "source": []
  }
 ],
 "metadata": {
  "kernelspec": {
   "display_name": "Python 3 (ipykernel)",
   "language": "python",
   "name": "python3"
  },
  "language_info": {
   "codemirror_mode": {
    "name": "ipython",
    "version": 3
   },
   "file_extension": ".py",
   "mimetype": "text/x-python",
   "name": "python",
   "nbconvert_exporter": "python",
   "pygments_lexer": "ipython3",
   "version": "3.11.3"
  }
 },
 "nbformat": 4,
 "nbformat_minor": 5
}
